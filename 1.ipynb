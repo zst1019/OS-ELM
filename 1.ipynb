{
 "cells": [
  {
   "cell_type": "code",
   "execution_count": 68,
   "metadata": {
    "collapsed": true
   },
   "outputs": [],
   "source": [
    "from __future__ import division\n",
    "from datetime import datetime\n",
    "from csv import DictReader\n",
    "from math import exp\n",
    "import random\n",
    "from numpy import *\n",
    "import string"
   ]
  },
  {
   "cell_type": "raw",
   "metadata": {},
   "source": [
    "初始化网络参数"
   ]
  },
  {
   "cell_type": "code",
   "execution_count": 69,
   "metadata": {
    "collapsed": true
   },
   "outputs": [],
   "source": [
    "trainData = 'segment_train.csv'\n",
    "testData = 'segment_test.csv'\n",
    "nHiddenNeurons = 180\n",
    "nInputNeurons = 19\n",
    "N0 = 280"
   ]
  },
  {
   "cell_type": "code",
   "execution_count": 70,
   "metadata": {
    "collapsed": true
   },
   "outputs": [],
   "source": [
    "#函数\n",
    "def sig(tData, Iw, bias, num):\n",
    "    '''\n",
    "    tData:样本矩阵：样本数*特征数\n",
    "    Iw:输入层到第一个隐含层的权重：隐含层神经元数*特整数\n",
    "    bias:偏置1*隐含神经元个数\n",
    "    '''\n",
    "    v = tData * Iw.T   #样本数*隐含神经元个数\n",
    "    bias_1 = ones((num, 1)) * bias\n",
    "    v = v + bias_1\n",
    "    H = 1./(1+exp(-v))\n",
    "    return H"
   ]
  },
  {
   "cell_type": "code",
   "execution_count": 71,
   "metadata": {
    "collapsed": true
   },
   "outputs": [],
   "source": [
    "firstTrainData = []\n",
    "firstTrainLable = []"
   ]
  },
  {
   "cell_type": "code",
   "execution_count": 72,
   "metadata": {
    "collapsed": false
   },
   "outputs": [],
   "source": [
    "for t, row in enumerate(DictReader(open(trainData))):\n",
    "    Id = row['Id']\n",
    "    del row['Id']\n",
    "    del row['I0']\n",
    "    \n",
    "    data = []\n",
    "    if int(Id) < NO:\n",
    "        if row['Label'] == '1.0':\n",
    "            y = 1\n",
    "        elif row['Label'] == '2.0':\n",
    "            y = 2\n",
    "        elif row['Label'] == '3.0':\n",
    "            y = 3\n",
    "        elif row['Label'] == '4.0':\n",
    "            y = 4\n",
    "        elif row['Label'] == '5.0':\n",
    "            y = 5\n",
    "        elif row['Label'] == '6.0':\n",
    "            y = 6\n",
    "        else:\n",
    "            y = 7\n",
    "        del row['Label']\n",
    "        firstTrainLable.append(y)\n",
    "        \n",
    "        for key in row:\n",
    "            value = float(row[key])\n",
    "            data.append(value)\n",
    "        firstTrainData.append(data)\n",
    "        continue\n",
    "        \n",
    "    elif int(Id) == NO:\n",
    "        p0 = mat(firstTrainData)\n",
    "        T0 = zeros((NO,7))\n",
    "        \n",
    "        for i in range(0,NO):\n",
    "            a = firstTrainLable[i]\n",
    "            T0[i][a-1] = 1\n",
    "            \n",
    "        T0 = T0 * 2 - 1\n",
    "        Iw = mat(random.rand(nHiddenNeurons, nInputNeurons))\n",
    "        bias = mat(random.rand(1, nHiddenNeurons))\n",
    "\n",
    "\n",
    "        H0 = sig(p0, Iw, bias, NO)\n",
    "        M = (H0.T * H0).I\n",
    "        beta = M * H0.T * T0\n",
    "    \n",
    "    else:\n",
    "        if row['Label'] == '1.0':\n",
    "            y = 1\n",
    "        elif row['Label'] == '2.0':\n",
    "            y = 2\n",
    "        elif row['Label'] == '3.0':\n",
    "            y = 3\n",
    "        elif row['Label'] == '4.0':\n",
    "            y = 4\n",
    "        elif row['Label'] == '5.0':\n",
    "            y = 5\n",
    "        elif row['Label'] == '6.0':\n",
    "            y = 6\n",
    "        else:\n",
    "            y = 7\n",
    "        del row['Label'] \n",
    "        Tn = zeros((1,7))\n",
    "        \n",
    "        b = y\n",
    "        Tn[0][b-1] = 1\n",
    "        Tn = Tn * 2 - 1\n",
    "        \n",
    "        data = []\n",
    "        for key in row:\n",
    "            value = float(row[key])\n",
    "            data.append(value)\n",
    "        pn = mat(data)\n",
    "        H = sig(pn, Iw, bias, 1)\n",
    "        M = M * H.T * (eye(1,1) + H * M * H.T).I * H * M\n",
    "        beta = beta + M * H.T * (Tn - H * beta)\n",
    "        "
   ]
  },
  {
   "cell_type": "raw",
   "metadata": {},
   "source": [
    "计算训练误差"
   ]
  },
  {
   "cell_type": "code",
   "execution_count": 75,
   "metadata": {
    "collapsed": false
   },
   "outputs": [
    {
     "name": "stdout",
     "output_type": "stream",
     "text": [
      "训练误差准确率为： 0.990667\n"
     ]
    }
   ],
   "source": [
    "correct = 0\n",
    "sum = 0\n",
    "for t, row in enumerate(DictReader(open(trainData))):\n",
    "    del row['Id']\n",
    "    del row['I0']\n",
    "    if row['Label'] == '1.0':\n",
    "        y = 1\n",
    "    elif row['Label'] == '2.0':\n",
    "        y = 2\n",
    "    elif row['Label'] == '3.0':\n",
    "        y = 3\n",
    "    elif row['Label'] == '4.0':\n",
    "        y = 4\n",
    "    elif row['Label'] == '5.0':\n",
    "        y = 5\n",
    "    elif row['Label'] == '6.0':\n",
    "        y = 6\n",
    "    else:\n",
    "        y = 7\n",
    "    del row['Label']\n",
    "    data = []\n",
    "    for key in row:\n",
    "        value = float(row[key])\n",
    "        data.append(value)\n",
    "    \n",
    "    p = mat(data)\n",
    "    HTrain = sig(p, Iw, bias, 1)\n",
    "    Y = HTrain * beta\n",
    "    \n",
    "    if argmax(Y) + 1 == y:\n",
    "        correct += 1\n",
    "    sum += 1\n",
    "\n",
    "print(\"训练误差准确率为： %f\"%(correct / sum))\n",
    "    "
   ]
  },
  {
   "cell_type": "raw",
   "metadata": {},
   "source": [
    "计算测试误差"
   ]
  },
  {
   "cell_type": "code",
   "execution_count": 76,
   "metadata": {
    "collapsed": false
   },
   "outputs": [
    {
     "name": "stdout",
     "output_type": "stream",
     "text": [
      "测试准确率：0.990123\n"
     ]
    }
   ],
   "source": [
    "correctTest = 0\n",
    "sumTest = 0\n",
    "for t, row in enumerate(DictReader(open(testData))):\n",
    "    del row['Id']\n",
    "    del row['I0']\n",
    "    \n",
    "    if row['Label'] == '1.0':\n",
    "        y = 1\n",
    "    elif row['Label'] == '2.0':\n",
    "        y = 2\n",
    "    elif row['Label'] == '3.0':\n",
    "        y = 3\n",
    "    elif row['Label'] == '4.0':\n",
    "        y = 4\n",
    "    elif row['Label'] == '5.0':\n",
    "        y = 5\n",
    "    elif row['Label'] == '6.0':\n",
    "        y = 6\n",
    "    else:\n",
    "        y = 7\n",
    "    del row['Label'] \n",
    "    \n",
    "    data = []\n",
    "    for key in row:\n",
    "        value = float(row[key])\n",
    "        data.append(value)\n",
    "        \n",
    "    p = mat(data)\n",
    "    HTrain = sig(p, Iw, bias, 1)\n",
    "    Y = HTrain * beta\n",
    "    \n",
    "    if argmax(Y) + 1 == y:\n",
    "        correctTest += 1\n",
    "    sumTest += 1\n",
    "    \n",
    "print(\"测试准确率：%f\" %(correctTest /sumTest))"
   ]
  }
 ],
 "metadata": {
  "kernelspec": {
   "display_name": "Python 3",
   "language": "python",
   "name": "python3"
  },
  "language_info": {
   "codemirror_mode": {
    "name": "ipython",
    "version": 3
   },
   "file_extension": ".py",
   "mimetype": "text/x-python",
   "name": "python",
   "nbconvert_exporter": "python",
   "pygments_lexer": "ipython3",
   "version": "3.6.0"
  }
 },
 "nbformat": 4,
 "nbformat_minor": 2
}
